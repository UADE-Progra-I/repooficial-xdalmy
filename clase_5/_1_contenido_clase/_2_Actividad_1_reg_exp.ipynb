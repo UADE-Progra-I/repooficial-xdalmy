{
  "nbformat": 4,
  "nbformat_minor": 0,
  "metadata": {
    "colab": {
      "provenance": []
    },
    "kernelspec": {
      "name": "python3",
      "display_name": "Python 3"
    },
    "language_info": {
      "name": "python"
    }
  },
  "cells": [
    {
      "cell_type": "markdown",
      "source": [
        "**NO sobrescribir este Notebook, favor de hacer unaa copia a la carpeta \"codigo_estudiantes\".**"
      ],
      "metadata": {
        "id": "fFoMHC_1w76P"
      }
    },
    {
      "cell_type": "markdown",
      "source": [
        "# Ejercicio 1\n"
      ],
      "metadata": {
        "id": "pAwWobhttmZd"
      }
    },
    {
      "cell_type": "markdown",
      "source": [
        "**Búsqueda simple con search**\n"
      ],
      "metadata": {
        "id": "FjRP4DlHt4eh"
      }
    },
    {
      "cell_type": "markdown",
      "source": [
        "Dada la cadena:\n",
        "`cadena = \"She sells sea shells by the seashore\"`\n",
        "<BR>\n",
        "Encuentra la primera palabra que empiece con \"se\" (ignora mayúsculas y minúsculas) y muestra su posición inicial y final."
      ],
      "metadata": {
        "id": "Gu0T7WE1tTAT"
      }
    },
    {
      "cell_type": "code",
      "source": [
        "# Tu código aquí"
      ],
      "metadata": {
        "id": "vh1pI8cguIkq"
      },
      "execution_count": null,
      "outputs": []
    },
    {
      "cell_type": "markdown",
      "source": [
        "# Ejercicio 2"
      ],
      "metadata": {
        "id": "B6PpSnPttzXf"
      }
    },
    {
      "cell_type": "markdown",
      "source": [
        "**Uso de findall**"
      ],
      "metadata": {
        "id": "e_HIrn5_tauQ"
      }
    },
    {
      "cell_type": "markdown",
      "source": [
        "Con la misma cadena, encuentra todas las ocurrencias de \"sh\" y muéstralas en una lista."
      ],
      "metadata": {
        "id": "l1QPvmfzuG3M"
      }
    },
    {
      "cell_type": "code",
      "source": [
        "# Tu código aquí"
      ],
      "metadata": {
        "id": "AYqau5AyucCb"
      },
      "execution_count": null,
      "outputs": []
    },
    {
      "cell_type": "markdown",
      "source": [
        "# Ejercicio 3"
      ],
      "metadata": {
        "id": "0It813-Xue9l"
      }
    },
    {
      "cell_type": "markdown",
      "source": [
        "**Metacaracteres . y ^**"
      ],
      "metadata": {
        "id": "w2iaOeHNuhXs"
      }
    },
    {
      "cell_type": "markdown",
      "source": [
        "Usa la cadena:\n",
        "<BR>\n",
        "`cadena = \"Peter Piper picked a peck of pickled peppers\"`\n",
        "<BR>\n",
        "1. Encuentra todas las palabras que empiecen con \"pi\".\n",
        "2. Encuentra todas las palabras que terminen en \"ed\".\n"
      ],
      "metadata": {
        "id": "3HO9xJmNuHi6"
      }
    },
    {
      "cell_type": "code",
      "source": [
        "# Tu código aquí"
      ],
      "metadata": {
        "id": "b-gixSioutAy"
      },
      "execution_count": null,
      "outputs": []
    },
    {
      "cell_type": "markdown",
      "source": [
        "# Ejercicio 4"
      ],
      "metadata": {
        "id": "rETrDp5BuwfM"
      }
    },
    {
      "cell_type": "markdown",
      "source": [
        "**Caracteres especiales escapados**"
      ],
      "metadata": {
        "id": "o5QpCsLGuz5i"
      }
    },
    {
      "cell_type": "markdown",
      "source": [
        "Dada la cadena:\n",
        "<BR>\n",
        "`cadena = \"El precio del producto es $59.99\"`\n",
        "<BR>\n",
        "1. Encuentra el valor que aparece después del símbolo $.\n",
        "2. Busca el separador decimal \".\" de manera literal."
      ],
      "metadata": {
        "id": "lByRDXSLu2d1"
      }
    },
    {
      "cell_type": "code",
      "source": [
        "# Tu código aquí"
      ],
      "metadata": {
        "id": "n_uHrWAixFxD"
      },
      "execution_count": null,
      "outputs": []
    },
    {
      "cell_type": "markdown",
      "source": [
        "# Ejercicio 5"
      ],
      "metadata": {
        "id": "6bpm1BZWu8hf"
      }
    },
    {
      "cell_type": "markdown",
      "source": [
        "**Conjuntos de caracteres []**"
      ],
      "metadata": {
        "id": "WGO2Y-Jju_NS"
      }
    },
    {
      "cell_type": "markdown",
      "source": [
        "Dada la cadena:\n",
        "<BR>\n",
        "`text = \"En un rato llega el pato a la granja de Tato\"`\n",
        "<BR>\n",
        "Encuentra todas las palabras que terminen en \"ato\" y que empiecen con r, p o t."
      ],
      "metadata": {
        "id": "j607q2pOvAwr"
      }
    },
    {
      "cell_type": "code",
      "source": [
        "# Tu código aquí"
      ],
      "metadata": {
        "id": "-aHo9FhcxGiB"
      },
      "execution_count": null,
      "outputs": []
    },
    {
      "cell_type": "markdown",
      "source": [
        "# Ejercicio 6"
      ],
      "metadata": {
        "id": "2q5UPLGavGG9"
      }
    },
    {
      "cell_type": "markdown",
      "source": [
        "**Rangos y negaciones**"
      ],
      "metadata": {
        "id": "YK6E3U2ivHim"
      }
    },
    {
      "cell_type": "markdown",
      "source": [
        "Dada la cadena:\n",
        "<BR>\n",
        "`direccion = \"Av. Corrientes 1234 Piso 5\"`\n",
        "<BR>\n",
        "1. Extrae solo las letras minúsculas [a-z].\n",
        "2, Extrae solo los números [0-9].\n",
        "3. Extrae todos los caracteres que no sean números ([^0-9])."
      ],
      "metadata": {
        "id": "kYoMZE1AvJP1"
      }
    },
    {
      "cell_type": "code",
      "source": [
        "# Tu código aquí"
      ],
      "metadata": {
        "id": "Z3aLiuOzxHOk"
      },
      "execution_count": null,
      "outputs": []
    },
    {
      "cell_type": "markdown",
      "source": [
        "# Ejercicio 7"
      ],
      "metadata": {
        "id": "m1zjEWgOvQPQ"
      }
    },
    {
      "cell_type": "markdown",
      "source": [
        "**Cuantificadores**"
      ],
      "metadata": {
        "id": "KMW9NGcOvTj1"
      }
    },
    {
      "cell_type": "markdown",
      "source": [
        "Dada la lista:\n",
        "<BR>\n",
        "`numeros = [\"12\", \"102\", \"1002\", \"10002\", \"1000002\"]`\n",
        "<BR>\n",
        "1. Encuentra con regex los números que tengan exactamente un 0 entre el 1 y el 2.\n",
        "2. Encuentra los que tengan uno o más ceros.\n",
        "3. Encuentra los que tengan cero o más ceros."
      ],
      "metadata": {
        "id": "8Lntme49vVFB"
      }
    },
    {
      "cell_type": "code",
      "source": [
        "# Tu código aquí"
      ],
      "metadata": {
        "id": "4jXandvnxH8n"
      },
      "execution_count": null,
      "outputs": []
    },
    {
      "cell_type": "markdown",
      "source": [
        "# Ejercicio 8"
      ],
      "metadata": {
        "id": "OXHU9BnNvdHl"
      }
    },
    {
      "cell_type": "markdown",
      "source": [
        "**Grupos de captura**"
      ],
      "metadata": {
        "id": "dhkGW3nMvfzf"
      }
    },
    {
      "cell_type": "markdown",
      "source": [
        "Dada la cadena:\n",
        "<BR>\n",
        "`text = \"Juan: 11-15-3456-7890, María: 11-15-6543-2109\"`\n",
        "<BR>\n",
        "Crea un patrón que extraiga cada número de celular en tres grupos:\n",
        "1. código de área (11)\n",
        "2. prefijo (15-xxxx)\n",
        "3. número final (xxxx)\n",
        "\n",
        "Imprime cada número completo y sus partes."
      ],
      "metadata": {
        "id": "MLMatJQ5vhng"
      }
    },
    {
      "cell_type": "code",
      "source": [
        "# Tu código aquí"
      ],
      "metadata": {
        "id": "XALUo-EcxIla"
      },
      "execution_count": null,
      "outputs": []
    },
    {
      "cell_type": "markdown",
      "source": [
        "# Ejercicio 9"
      ],
      "metadata": {
        "id": "MQ5XSQU0vot9"
      }
    },
    {
      "cell_type": "markdown",
      "source": [
        "**Sustitución con sub**"
      ],
      "metadata": {
        "id": "DK51g_45vrf3"
      }
    },
    {
      "cell_type": "markdown",
      "source": [
        "Dada la cadena:\n",
        "<BR>\n",
        "`text = \"El número de Pedro es 123-456-7890 y el de Ana es 987-654-3210\"`\n",
        "\n",
        "1. Reemplaza todos los números de teléfono por \"XXX-XXX-XXXX\".\n",
        "2. Reemplaza \"Pedro\" por \"Juan\"."
      ],
      "metadata": {
        "id": "_i6mZsUWvtQe"
      }
    },
    {
      "cell_type": "code",
      "source": [
        "# Tu código aquí"
      ],
      "metadata": {
        "id": "OzAnOqxtxJGV"
      },
      "execution_count": null,
      "outputs": []
    },
    {
      "cell_type": "markdown",
      "source": [
        "# Ejercicio 10"
      ],
      "metadata": {
        "id": "IYEuir74v2vK"
      }
    },
    {
      "cell_type": "markdown",
      "source": [
        "**compile y reutilización de patrones**"
      ],
      "metadata": {
        "id": "TJDvhoQcv6wK"
      }
    },
    {
      "cell_type": "markdown",
      "source": [
        "Dada la cadena:\n",
        "<BR>\n",
        "`cadena = \"07/08/2017 | 03/02/1984 | 17/03/1984\"`\n",
        "<BR>\n",
        "1. Usa re.compile para definir un patrón que encuentre años de 4 dígitos.\n",
        "2. Obtén todas las coincidencias con findall().\n",
        "3. Reemplaza los años por \"XXXX\"."
      ],
      "metadata": {
        "id": "cdJo2Z84v9Uq"
      }
    },
    {
      "cell_type": "code",
      "source": [
        "# Tu código aquí"
      ],
      "metadata": {
        "id": "-vygvhwLxJlY"
      },
      "execution_count": null,
      "outputs": []
    }
  ]
}