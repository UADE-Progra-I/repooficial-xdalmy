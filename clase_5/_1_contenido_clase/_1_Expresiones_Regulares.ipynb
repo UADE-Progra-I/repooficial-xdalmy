{
  "nbformat": 4,
  "nbformat_minor": 0,
  "metadata": {
    "colab": {
      "provenance": []
    },
    "kernelspec": {
      "name": "python3",
      "display_name": "Python 3"
    },
    "language_info": {
      "name": "python"
    }
  },
  "cells": [
    {
      "cell_type": "markdown",
      "source": [
        "# Expresiones regulares"
      ],
      "metadata": {
        "id": "e2416YQYQsn2"
      }
    },
    {
      "cell_type": "markdown",
      "source": [
        "Una expresión regular (o regex) es una secuencia de caracteres que define un patrón de búsqueda para encontrar coincidencias dentro de cadenas de texto.\n"
      ],
      "metadata": {
        "id": "TBfh2mwmUgG0"
      }
    },
    {
      "cell_type": "markdown",
      "source": [
        "* Permiten buscar, coincidir y manipular texto de manera flexible y eficiente.\n",
        "* Utilizan patrones para realizar búsquedas complejas, como validar formatos de correo electrónico, extraer datos específicos de cadenas largas o reemplazar partes del texto.\n",
        "* Poseen una sintaxis especial que incluye metacaracteres y constructores que facilitan la especificación de patrones detallados, como grupos, rangos y repeticiones.\n",
        "\n"
      ],
      "metadata": {
        "id": "qkEoDvnbUv3l"
      }
    },
    {
      "cell_type": "code",
      "source": [
        "# Importamos la libreria re\n",
        "import re"
      ],
      "metadata": {
        "id": "3dxyZb0sVJEz"
      },
      "execution_count": null,
      "outputs": []
    },
    {
      "cell_type": "markdown",
      "source": [
        "## Método search()"
      ],
      "metadata": {
        "id": "eNfGXditU8Rx"
      }
    },
    {
      "cell_type": "markdown",
      "source": [
        "Se utiliza para buscar una coincidencia de un patrón en una cadena de texto. Este método examina toda la cadena para encontrar la primera ubicación donde el patrón coincide y devuelve un objeto re.Match si encuentra una coincidencia; de lo contrario, devuelve None.\n",
        "<BR>\n",
        "Su sintaxis es:\n",
        "<BR>\n",
        "`re.search(<patrón>, <cadena>)`\n",
        "<BR>\n",
        "Correr el siguiente código y explorar los métodos del objeto Match que retorna re.search()"
      ],
      "metadata": {
        "id": "H5ziOFdEVPZG"
      }
    },
    {
      "cell_type": "code",
      "execution_count": null,
      "metadata": {
        "colab": {
          "base_uri": "https://localhost:8080/"
        },
        "id": "uLxB9JXyQfrt",
        "outputId": "32fd7e34-6f6c-43ce-be29-4085e1ed15f2"
      },
      "outputs": [
        {
          "output_type": "stream",
          "name": "stdout",
          "text": [
            "Objeto result: <re.Match object; span=(12, 14), match='pi'>\n",
            "Coincidencia: pi\n",
            "Posición inicial: 12\n",
            "Posición final: 14\n",
            "Rango de índices: (12, 14)\n",
            "Peter Piper picked a peck of pickled peppers\n"
          ]
        }
      ],
      "source": [
        "cadena = \"Peter Piper picked a peck of pickled peppers\"\n",
        "\n",
        "resultado = re.search(\"pi\", cadena) #atributo opcional re.IGNORECASE\n",
        "\n",
        "print(cadena)\n",
        "print(\"Objeto result:\", resultado)\n",
        "print(\"Coincidencia:\", resultado.group())\n",
        "print(\"Posición inicial:\", resultado.start())\n",
        "print(\"Posición final:\", resultado.end())\n",
        "print(\"Rango de índices:\", resultado.span())\n"
      ]
    },
    {
      "cell_type": "markdown",
      "source": [
        "## Método findall()"
      ],
      "metadata": {
        "id": "24fzDAxUWxHg"
      }
    },
    {
      "cell_type": "markdown",
      "source": [
        "Se utiliza para encontrar todas las ocurrencias de un patrón específico en una cadena de texto y devuelve una lista de las coincidencias. Si no encuentra ocurrencias devuelve una lista vacía.\n",
        "<BR>\n",
        "Su sintaxis es:\n",
        "<BR>\n",
        "`re.findall(<patrón>, <cadena>)`\n"
      ],
      "metadata": {
        "id": "SIiWHLFEW07f"
      }
    },
    {
      "cell_type": "code",
      "source": [
        "cadena = \"Peter Piper picked a peck of pickled peppers\"\n",
        "\n",
        "resultado = re.findall(\"ck\", cadena)\n",
        "print(cadena)\n",
        "print('re.findall(\"ck\", cadena): ', resultado)"
      ],
      "metadata": {
        "colab": {
          "base_uri": "https://localhost:8080/"
        },
        "id": "i29ka-ulW_Vl",
        "outputId": "26a7ff26-3ee6-4e05-95f5-553669b9668c"
      },
      "execution_count": null,
      "outputs": [
        {
          "output_type": "stream",
          "name": "stdout",
          "text": [
            "Peter Piper picked a peck of pickled peppers\n",
            "re.findall(\"ck\", cadena):  ['ck', 'ck', 'ck']\n"
          ]
        }
      ]
    },
    {
      "cell_type": "code",
      "source": [
        "cadena_split = cadena.split()\n",
        "print(\"cadena: \", cadena)\n",
        "print(\"cadena_split: \", cadena_split)"
      ],
      "metadata": {
        "colab": {
          "base_uri": "https://localhost:8080/"
        },
        "id": "5LUi5vBUarDT",
        "outputId": "c7ec7ed9-f6cc-489e-b160-cba07dce872a"
      },
      "execution_count": null,
      "outputs": [
        {
          "output_type": "stream",
          "name": "stdout",
          "text": [
            "cadena:  Peter Piper picked a peck of pickled peppers\n",
            "cadena_split:  ['Peter', 'Piper', 'picked', 'a', 'peck', 'of', 'pickled', 'peppers']\n"
          ]
        }
      ]
    },
    {
      "cell_type": "markdown",
      "source": [
        "Podríamos usar re.search con list comprehension para que retorne las palabras que cumplen con el patrón de búsqueda:"
      ],
      "metadata": {
        "id": "o3s_beSAaLIO"
      }
    },
    {
      "cell_type": "code",
      "source": [
        "resultado = [word for word in cadena_split if re.search(\"ck\", word)]\n",
        "print(\"cadena: \", cadena)\n",
        "print('re.findall(\"ck\", cadena)', resultado)"
      ],
      "metadata": {
        "colab": {
          "base_uri": "https://localhost:8080/"
        },
        "id": "KpVCVn9IaFTz",
        "outputId": "eee4b510-166e-4e8d-f4c5-6f98de850baf"
      },
      "execution_count": null,
      "outputs": [
        {
          "output_type": "stream",
          "name": "stdout",
          "text": [
            "cadena:  Peter Piper picked a peck of pickled peppers\n",
            "re.findall(\"ck\", cadena) ['picked', 'peck', 'pickled']\n"
          ]
        }
      ]
    },
    {
      "cell_type": "markdown",
      "source": [
        "## Metacaracteres"
      ],
      "metadata": {
        "id": "L9WcMNRTXd1I"
      }
    },
    {
      "cell_type": "markdown",
      "source": [
        "También llamados comodines, son caracteres especiales que tienen significados específicos y se utilizan para representar patrones de búsqueda más complejos dentro de una cadena de texto.\n",
        "<BR>\n",
        "A diferencia de los caracteres literales que coinciden exactamente con su representación en el texto, los metacaracteres permiten definir patrones que incluyen variaciones, repeticiones y posiciones."
      ],
      "metadata": {
        "id": "mejOw7YEXqrd"
      }
    },
    {
      "cell_type": "markdown",
      "source": [
        "### El punto (.)"
      ],
      "metadata": {
        "id": "rY3uSWzyXgf_"
      }
    },
    {
      "cell_type": "markdown",
      "source": [
        "\n",
        "\n",
        "El punto (.) representa a cualquier carácter dentro de la cadena, excepto una nueva línea. Esto significa que puede coincidir con letras, números, espacios en blanco y otros símbolos:\n"
      ],
      "metadata": {
        "id": "2v5rvxRAXmH_"
      }
    },
    {
      "cell_type": "code",
      "source": [
        "cadena = \"Peter Piper picked a peck of pickled peppers\"\n",
        "\n",
        "resultado = re.findall(\"p.c\", cadena)\n",
        "print(\"\\n\" + cadena)\n",
        "print('re.findall(\"p.c\", cadena)', resultado)"
      ],
      "metadata": {
        "colab": {
          "base_uri": "https://localhost:8080/"
        },
        "id": "kk2s3TsmX1xn",
        "outputId": "4921eee3-b2d7-4ea8-a10d-c79ede5e1011"
      },
      "execution_count": null,
      "outputs": [
        {
          "output_type": "stream",
          "name": "stdout",
          "text": [
            "\n",
            "Peter Piper picked a peck of pickled peppers\n",
            "re.findall(\"p.c\", cadena) ['pic', 'pec', 'pic']\n"
          ]
        }
      ]
    },
    {
      "cell_type": "code",
      "source": [
        "resultado = [word for word in cadena.split() if re.search(\"p.c\", word)]\n",
        "print(\"\\n\", cadena_split)\n",
        "print('re.findall(\"p.c\", cadena)', resultado)"
      ],
      "metadata": {
        "colab": {
          "base_uri": "https://localhost:8080/"
        },
        "id": "bG-V4c8ZYMd0",
        "outputId": "c7a202f9-4038-44cf-902c-1e3b9b3b3e8e"
      },
      "execution_count": null,
      "outputs": [
        {
          "output_type": "stream",
          "name": "stdout",
          "text": [
            "\n",
            " ['Peter', 'Piper', 'picked', 'a', 'peck', 'of', 'pickled', 'peppers']\n",
            "re.findall(\"p.c\", cadena) ['picked', 'peck', 'pickled']\n"
          ]
        }
      ]
    },
    {
      "cell_type": "markdown",
      "source": [
        "### El tilde circunflejo (^)"
      ],
      "metadata": {
        "id": "V2TlZDvzYn_F"
      }
    },
    {
      "cell_type": "markdown",
      "source": [
        "indica que el patrón debe buscarse sólo al comienzo de la cadena. Se lo denomina metacaracter de posicionamiento o ancla:\n"
      ],
      "metadata": {
        "id": "QMMukoe0YsPx"
      }
    },
    {
      "cell_type": "code",
      "source": [
        "cadena = \"Peter Piper picked a peck of pickled peppers\"\n",
        "\n",
        "resultado = re.findall(\"^pe\", cadena, re.IGNORECASE)\n",
        "print(\"\\n\" + cadena)\n",
        "print('re.findall(\"^pe\", cadena)', resultado)"
      ],
      "metadata": {
        "colab": {
          "base_uri": "https://localhost:8080/"
        },
        "id": "sJBVzvF2Yv0_",
        "outputId": "dc1d7185-45d4-4a36-d757-9e90a0704ebc"
      },
      "execution_count": null,
      "outputs": [
        {
          "output_type": "stream",
          "name": "stdout",
          "text": [
            "\n",
            "Peter Piper picked a peck of pickled peppers\n",
            "re.findall(\"^pe\", cadena) ['Pe']\n"
          ]
        }
      ]
    },
    {
      "cell_type": "code",
      "source": [
        "resultado = [word for word in cadena_split if re.search(\"^pe\", word, re.IGNORECASE)]\n",
        "print(\"\\n\", cadena_split)\n",
        "print('re.findall(\"p.c\", cadena, re.IGNORECASE)', resultado)"
      ],
      "metadata": {
        "colab": {
          "base_uri": "https://localhost:8080/"
        },
        "id": "3nz8YEVidYyU",
        "outputId": "69cb9d2b-0354-4b13-e482-e3929892af9c"
      },
      "execution_count": null,
      "outputs": [
        {
          "output_type": "stream",
          "name": "stdout",
          "text": [
            "\n",
            " ['Peter', 'Piper', 'picked', 'a', 'peck', 'of', 'pickled', 'peppers']\n",
            "re.findall(\"p.c\", cadena, re.IGNORECASE) ['Peter', 'peck', 'peppers']\n"
          ]
        }
      ]
    },
    {
      "cell_type": "markdown",
      "source": [
        "## Límite de palabra"
      ],
      "metadata": {
        "id": "iOtOmKN2yyuI"
      }
    },
    {
      "cell_type": "markdown",
      "source": [
        "* \\b no representa un carácter, sino una posición: el límite entre un carácter de palabra (\\w) y un carácter que no lo es (\\W), o el inicio/fin de la cadena.\n",
        "\n",
        "* En otras palabras: marca dónde empieza o termina una palabra."
      ],
      "metadata": {
        "id": "hnQM2dSzy7HU"
      }
    },
    {
      "cell_type": "code",
      "source": [
        "texto = \"pineapple apple applepie\"\n",
        "\n",
        "print(re.findall(r\"\\bapple\\b\", texto))   # ['apple']\n",
        "print(re.findall(r\"\\bapple\", texto))     # ['apple', 'apple'] → apple y applepie\n",
        "print(re.findall(r\"apple\\b\", texto))     # ['apple', 'apple'] → apple y pineapple\n"
      ],
      "metadata": {
        "colab": {
          "base_uri": "https://localhost:8080/"
        },
        "id": "9GlHJEfxzSar",
        "outputId": "0be7e91e-96f8-4cec-d2d2-2736ea8758a8"
      },
      "execution_count": null,
      "outputs": [
        {
          "output_type": "stream",
          "name": "stdout",
          "text": [
            "['apple']\n",
            "['apple', 'apple']\n",
            "['apple', 'apple']\n"
          ]
        }
      ]
    },
    {
      "cell_type": "markdown",
      "source": [
        "### El signo $"
      ],
      "metadata": {
        "id": "0H7Y2zrNeS6P"
      }
    },
    {
      "cell_type": "markdown",
      "source": [
        "indica que el patrón debe buscarse sólo al final de la cadena. También se lo denomina metacaracter de posicionamiento o ancla:\n"
      ],
      "metadata": {
        "id": "NC2LWhC6eWa5"
      }
    },
    {
      "cell_type": "code",
      "source": [
        "cadena = \"Peter Piper picked a peck of pickled peppers\"\n",
        "\n",
        "resultado = re.findall(\"ed$\", cadena)\n",
        "print(\"\\n\", cadena)\n",
        "print('re.findall(\"ed$\", word)', resultado)"
      ],
      "metadata": {
        "colab": {
          "base_uri": "https://localhost:8080/"
        },
        "id": "tKGzw-i4eYie",
        "outputId": "0dbc1091-ee10-453b-ddfe-c3e04a645fb8"
      },
      "execution_count": null,
      "outputs": [
        {
          "output_type": "stream",
          "name": "stdout",
          "text": [
            "\n",
            " Peter Piper picked a peck of pickled peppers\n",
            "re.findall(\"ed$\", word) []\n"
          ]
        }
      ]
    },
    {
      "cell_type": "code",
      "source": [
        "resultado = [word for word in cadena_split if re.search(\"ed$\", word)]\n",
        "print(\"\\n\", cadena_split)\n",
        "print('re.findall(\"ed$\", word)', resultado)"
      ],
      "metadata": {
        "colab": {
          "base_uri": "https://localhost:8080/"
        },
        "id": "MdwIWJlpelNy",
        "outputId": "4d5dc1eb-e512-4a03-de29-6590b5f2c91d"
      },
      "execution_count": null,
      "outputs": [
        {
          "output_type": "stream",
          "name": "stdout",
          "text": [
            "\n",
            " ['Peter', 'Piper', 'picked', 'a', 'peck', 'of', 'pickled', 'peppers']\n",
            "re.findall(\"ed$\", word) ['picked', 'pickled']\n"
          ]
        }
      ]
    },
    {
      "cell_type": "markdown",
      "source": [
        "## Carácter de palabra con \\w"
      ],
      "metadata": {
        "id": "MsnEpxIIzx_0"
      }
    },
    {
      "cell_type": "markdown",
      "source": [
        "* \\w sí representa un carácter: cualquier letra mayúscula/minúscula, dígito o guion bajo ([A-Za-z0-9_]).\n",
        "\n",
        "* Por defecto en ASCII no incluye acentos ni ñ, aunque con re.UNICODE sí puede hacerlo."
      ],
      "metadata": {
        "id": "yEx0rmwjz0tb"
      }
    },
    {
      "cell_type": "code",
      "source": [
        "texto = \"Python_3 es genial!\"\n",
        "\n",
        "print(re.findall(r\"\\w\", texto))       # ['P','y','t','h','o','n','_','3','e','s','g','e','n','i','a','l']\n",
        "print(re.findall(r\"\\W\", texto))       # [' ', ' ', '!'] → todo lo que NO es palabra"
      ],
      "metadata": {
        "colab": {
          "base_uri": "https://localhost:8080/"
        },
        "id": "R3AOkV_zz3RA",
        "outputId": "71979846-b7df-48e5-82ff-62ba343b4435"
      },
      "execution_count": null,
      "outputs": [
        {
          "output_type": "stream",
          "name": "stdout",
          "text": [
            "['P', 'y', 't', 'h', 'o', 'n', '_', '3', 'e', 's', 'g', 'e', 'n', 'i', 'a', 'l']\n",
            "[' ', ' ', '!']\n"
          ]
        }
      ]
    },
    {
      "cell_type": "markdown",
      "source": [
        "### Combinamos ^ con $"
      ],
      "metadata": {
        "id": "60l5h93CfKug"
      }
    },
    {
      "cell_type": "markdown",
      "source": [
        "Es posible combinar ambos signos para buscar palabras que comiencen con cierto carácter y terminen con otro:\n"
      ],
      "metadata": {
        "id": "gWhx802UfRJn"
      }
    },
    {
      "cell_type": "markdown",
      "source": [
        "El * (asterisco) es un cuantificador que se utiliza para indicar que el elemento que lo precede puede aparecer cero o más veces. Es decir, permite que el patrón se repita cualquier número de veces, incluyendo la posibilidad de no aparecer en absoluto.\n"
      ],
      "metadata": {
        "id": "cr4jgHz2fUc6"
      }
    },
    {
      "cell_type": "code",
      "source": [
        "cadena = \"Peter Piper picked a peck of pickled peppers\"\n",
        "\n",
        "resultado = [word for word in cadena_split if re.search(\"^pe.*rs$\", word, re.IGNORECASE)]\n",
        "print(\"\\n\", cadena_split)\n",
        "print('re.findall(\"^pe.*rs$\", word)', resultado)"
      ],
      "metadata": {
        "colab": {
          "base_uri": "https://localhost:8080/"
        },
        "id": "OJ_LcjRYfXq6",
        "outputId": "45f62a27-8d7d-43b6-9878-0b6d4927df4e"
      },
      "execution_count": null,
      "outputs": [
        {
          "output_type": "stream",
          "name": "stdout",
          "text": [
            "\n",
            " ['Peter', 'Piper', 'picked', 'a', 'peck', 'of', 'pickled', 'peppers']\n",
            "re.findall(\"^pi.*ed$\", word) ['peppers']\n"
          ]
        }
      ]
    },
    {
      "cell_type": "markdown",
      "source": [
        "## Escape de caracteres"
      ],
      "metadata": {
        "id": "OPhF_6XIgKRl"
      }
    },
    {
      "cell_type": "markdown",
      "source": [
        "Puede suceder que necesitemos incluir en nuestro patrón algún metacaracter como signo literal, es decir, que se interprete por sí mismo y no por su función especial. Para lograr esto, utilizamos el carácter de escape, que es la barra invertida (\\).\n",
        "La barra invertida (\\) antepone a los metacaracteres para que sean tratados como caracteres normales. Por ejemplo, si queremos buscar el símbolo de peso ($) en lugar de su significado especial de “final de caracteres”, usaremos \\$.\n",
        "Así, la barra invertida convierte a los caracteres especiales en literales dentro del patrón:\n"
      ],
      "metadata": {
        "id": "W4QqB2IFgQb7"
      }
    },
    {
      "cell_type": "code",
      "source": [
        "apple = \"Las acciones de Apple abrieron a $227 y cerraron a ascendieron a $238 usd\"\n",
        "apple_split = apple.split()\n",
        "\n",
        "resultado = re.findall(r\"\\$2.*\", apple)\n",
        "print(resultado)\n",
        "\n",
        "resultado = [word for word in apple_split if re.search(r\"\\$2.*\", word)]\n",
        "print(resultado)"
      ],
      "metadata": {
        "colab": {
          "base_uri": "https://localhost:8080/"
        },
        "id": "dQ32a6UNgTwg",
        "outputId": "95ac04c3-897e-470d-ec70-4f97e64d7c8d"
      },
      "execution_count": null,
      "outputs": [
        {
          "output_type": "stream",
          "name": "stdout",
          "text": [
            "['$227 y cerraron a ascendieron a $238 usd']\n",
            "['$227', '$238']\n"
          ]
        }
      ]
    },
    {
      "cell_type": "code",
      "source": [
        "apple = \"Las acciones de Apple abrieron a $227.50 usd y cerraron a ascendieron a $238.75 usd\"\n",
        "apple_split = apple.split()\n",
        "\n",
        "resultado = [word for word in apple_split if re.search(r\"\\$2.*\\.75$\", word)]\n",
        "print(apple_split)\n",
        "print(resultado)"
      ],
      "metadata": {
        "colab": {
          "base_uri": "https://localhost:8080/"
        },
        "id": "G2Ta8LkSkkzt",
        "outputId": "d5e74ea0-f138-4b06-b258-eb53c008ed0d"
      },
      "execution_count": null,
      "outputs": [
        {
          "output_type": "stream",
          "name": "stdout",
          "text": [
            "['Las', 'acciones', 'de', 'Apple', 'abrieron', 'a', '$227.50', 'usd', 'y', 'cerraron', 'a', 'ascendieron', 'a', '$238.75', 'usd']\n",
            "['$238.75']\n"
          ]
        }
      ]
    },
    {
      "cell_type": "markdown",
      "source": [
        "## Grupos de caracteres []"
      ],
      "metadata": {
        "id": "dhL2glRmlkGq"
      }
    },
    {
      "cell_type": "markdown",
      "source": [
        "Se definen utilizando corchetes [ ] y se utilizan para especificar un conjunto de caracteres posibles que pueden coincidir en una posición particular en la cadena. Este grupo se conoce como una clase de caracteres.\n"
      ],
      "metadata": {
        "id": "ZmRfFLcLln0j"
      }
    },
    {
      "cell_type": "markdown",
      "source": [
        "### Conjunto de caracteres"
      ],
      "metadata": {
        "id": "9f5ZHlUQmYpa"
      }
    },
    {
      "cell_type": "markdown",
      "source": [
        "**Definición de un conjunto de caracteres:** [abc] coincidirá con cualquier carácter 'a', 'b' o 'c'.\n"
      ],
      "metadata": {
        "id": "aJSkcfuRlr3b"
      }
    },
    {
      "cell_type": "code",
      "source": [
        "# Grupo de caracteres []\n",
        "text = \"En un rato llega el pato a la granja de Tato\"\n",
        "\n",
        "resultado = re.findall(\"[pr]ato\", text)\n",
        "print(\"\\n\" + text)\n",
        "print('re.findall(\"[pr]ato\", text)', resultado)"
      ],
      "metadata": {
        "colab": {
          "base_uri": "https://localhost:8080/"
        },
        "id": "L8YnU9OGlwAg",
        "outputId": "f31a8def-265c-44b0-824a-c2a7f177b287"
      },
      "execution_count": null,
      "outputs": [
        {
          "output_type": "stream",
          "name": "stdout",
          "text": [
            "\n",
            "En un rato llega el pato a la granja de Tato\n",
            "re.findall(\"[pr]ato\", text) ['rato', 'pato']\n"
          ]
        }
      ]
    },
    {
      "cell_type": "markdown",
      "source": [
        "### Rango de caracteres"
      ],
      "metadata": {
        "id": "aIMAeEtYmcAb"
      }
    },
    {
      "cell_type": "markdown",
      "source": [
        "Rangos de caracteres: El guion define un rango de caracteres:\n"
      ],
      "metadata": {
        "id": "VUkohZ9Vmh3j"
      }
    },
    {
      "cell_type": "code",
      "source": [
        "# Rango de caracteres [a-z], [0-9]\n",
        "direccion = \"Lima 757 Piso 5\"\n",
        "\n",
        "resultado = re.findall(\"[a-z]\", direccion)\n",
        "print(\"\\n\" + direccion)\n",
        "print('re.findall(\"[a-z]\", direccion)', resultado)\n",
        "\n",
        "resultado = re.findall(\"[0-9]\", direccion)\n",
        "print('re.findall(\"[0-9]\", direccion)', resultado)"
      ],
      "metadata": {
        "colab": {
          "base_uri": "https://localhost:8080/"
        },
        "id": "EEV6W1snmDHQ",
        "outputId": "f5898e6c-766b-4590-aa78-aa0839a6f015"
      },
      "execution_count": null,
      "outputs": [
        {
          "output_type": "stream",
          "name": "stdout",
          "text": [
            "\n",
            "Lima 757 Piso 5\n",
            "re.findall(\"[a-z]\", direccion) ['i', 'm', 'a', 'i', 's', 'o']\n",
            "re.findall(\"[0-9]\", direccion) ['7', '5', '7', '5']\n"
          ]
        }
      ]
    },
    {
      "cell_type": "markdown",
      "source": [
        "### Negar un conjunto de caracteres"
      ],
      "metadata": {
        "id": "dlfze-6DmjmE"
      }
    },
    {
      "cell_type": "markdown",
      "source": [
        "El tilde circunflejo ^ permite negar un conjunto:\n"
      ],
      "metadata": {
        "id": "5FylUmWBmnDk"
      }
    },
    {
      "cell_type": "code",
      "source": [
        "# Rango de caracteres [a-z] con ^ para negar un conjunto\n",
        "resultado = re.findall(\"[^0-9]\", direccion, re.IGNORECASE)\n",
        "print(\"\\n\" + direccion)\n",
        "print('re.findall(\"[^0-9]\", direccion)', resultado)"
      ],
      "metadata": {
        "colab": {
          "base_uri": "https://localhost:8080/"
        },
        "id": "zyUcpPiwmpfT",
        "outputId": "5601b284-c15e-4acd-9a1b-2826e915b293"
      },
      "execution_count": null,
      "outputs": [
        {
          "output_type": "stream",
          "name": "stdout",
          "text": [
            "\n",
            "Lima 757 Piso 5\n",
            "re.findall(\"[^0-9]\", direccion) ['L', 'i', 'm', 'a', ' ', ' ', 'P', 'i', 's', 'o', ' ']\n"
          ]
        }
      ]
    },
    {
      "cell_type": "markdown",
      "source": [
        "## Clases de caracteres predefinidas"
      ],
      "metadata": {
        "id": "SspH7qbRmyHX"
      }
    },
    {
      "cell_type": "markdown",
      "source": [
        "Algunas clases de caracteres predefinidas proporcionan una manera más sencilla de expresar patrones comunes:\n",
        "<BR>\n",
        "**\\d** es equivalente a [0-9] (dígitos).\n",
        "<BR>\n",
        "**\\D** es equivalente a [^0-9] (no dígitos).\n",
        "<BR>\n",
        "**\\w** es equivalente a [a-zA-Z0-9_] (caracteres alfanuméricos y el guion bajo).\n",
        "<BR>\n",
        "**\\W** es equivalente a [^a-zA-Z0-9_] (no alfanuméricos y no el guion bajo).\n",
        "<BR>\n",
        "**\\s** es equivalente a [ \\t\\n\\r\\f\\v] (espacios en blanco).\n",
        "<BR>\n",
        "**\\S** es equivalente a [^ \\t\\n\\r\\f\\v] (no espacios en blanco).\n"
      ],
      "metadata": {
        "id": "wTZm92h8m0-M"
      }
    },
    {
      "cell_type": "markdown",
      "source": [
        "## Metacaracteres en grupos y rangos"
      ],
      "metadata": {
        "id": "WSXrKf_Jm6Gr"
      }
    },
    {
      "cell_type": "markdown",
      "source": [
        "Los metacaracteres (^ y $) se pueden combinar libremente con los grupos y rangos:\n"
      ],
      "metadata": {
        "id": "3T80ZfzknP5A"
      }
    },
    {
      "cell_type": "code",
      "source": [
        "text = \"La bella y enorme casa se veía desde el tren.\"\n",
        "text_split = text.split()\n",
        "resultado = [word for word in text_split if re.search(\"^[b-g]\", word)]\n",
        "\n",
        "print(text)\n",
        "print('re.findall(\"^[b-g]\", word)', resultado)\n",
        "resultado = [word for word in text_split if re.search(\"[b-g]$\", word)]\n",
        "print('re.findall(\"[b-g]$\", word)', resultado)"
      ],
      "metadata": {
        "colab": {
          "base_uri": "https://localhost:8080/"
        },
        "id": "pJoWSAh9nT-r",
        "outputId": "34bff756-5c1c-4f12-a3a8-5b6a04b787e2"
      },
      "execution_count": null,
      "outputs": [
        {
          "output_type": "stream",
          "name": "stdout",
          "text": [
            "La bella y enorme casa se veía desde el tren.\n",
            "re.findall(\"^[b-g]\", word) ['bella', 'enorme', 'casa', 'desde', 'el']\n",
            "re.findall(\"[b-g]$\", word) ['enorme', 'se', 'desde']\n"
          ]
        }
      ]
    },
    {
      "cell_type": "markdown",
      "source": [
        "## Alternativas con |"
      ],
      "metadata": {
        "id": "cloyF5BPnsQC"
      }
    },
    {
      "cell_type": "markdown",
      "source": [
        "El metacaracter | (barra vertical) en expresiones regulares funciona como un operador de alternancia (o lógico). Permite especificar múltiples opciones dentro de una misma expresión, de modo que la expresión coincida con cualquiera de las alternativas proporcionadas.\n",
        "Supongamos que queremos buscar palabras que puedan ser \"septiembre\" o \"setiembre\". En lugar de definir dos expresiones separadas, podemos utilizar el metacaracter | para combinarlas en una sola expresión regular.\n",
        "Este uso del metacaracter | simplifica la búsqueda de múltiples alternativas dentro de una expresión regular, lo que resulta en una expresión más concisa y legible.\n"
      ],
      "metadata": {
        "id": "1gWEuOm5nux-"
      }
    },
    {
      "cell_type": "code",
      "source": [
        "text = \"En septiembre se celebra el día del estudiante\"\n",
        "text_split = text.split()\n",
        "\n",
        "resultado = [word for word in text_split if re.search(r\"(septiembre|setiembre)\", word)]\n",
        "\n",
        "print(text)\n",
        "print('re.findall(\"[septiembre|setiembre]\", word)', resultado)\n"
      ],
      "metadata": {
        "colab": {
          "base_uri": "https://localhost:8080/"
        },
        "id": "-X__GuQ8nxP9",
        "outputId": "d0f3fa78-fe47-4531-8f02-65a53a44e9ba"
      },
      "execution_count": null,
      "outputs": [
        {
          "output_type": "stream",
          "name": "stdout",
          "text": [
            "En septiembre se celebra el día del estudiante\n",
            "re.findall(\"[septiembre|setiembre]\", word) ['septiembre']\n"
          ]
        }
      ]
    },
    {
      "cell_type": "markdown",
      "source": [
        "## Cuantificadores o multiplicadores"
      ],
      "metadata": {
        "id": "dN6op262o8Nn"
      }
    },
    {
      "cell_type": "markdown",
      "source": [
        "Los cuantificadores son símbolos que indican cuántas veces debe aparecer en el texto el caracter que le antecede.\n",
        "* `?`  indica que el elemento puede aparecer 0 o 1 vez\n",
        "* `*`  indica que el elemento puede aparecer 0 o más veces\n",
        "* `+`  indica que el elemento puede aparecer 1 o más veces\n"
      ],
      "metadata": {
        "id": "PDNf8-BdpDQr"
      }
    },
    {
      "cell_type": "code",
      "source": [
        "# Evaluamos el cuantificado ?\n",
        "numeros = [\"12\", \"102\", \"1002\", \"10002\"]\n",
        "resultado = [numero for numero in numeros if re.findall(\"10?2\", numero)]\n",
        "\n",
        "print(\"\\n\" + str(numeros))\n",
        "print('re.findall(\"1?2\", numero): ', resultado)\n",
        "\n"
      ],
      "metadata": {
        "colab": {
          "base_uri": "https://localhost:8080/"
        },
        "id": "7DbL72HBpFzN",
        "outputId": "dfa7376e-47b4-4958-d081-3de98a960e1f"
      },
      "execution_count": null,
      "outputs": [
        {
          "output_type": "stream",
          "name": "stdout",
          "text": [
            "\n",
            "['12', '102', '1002', '10002']\n",
            "re.findall(\"1?2\", numero):  ['12', '102']\n"
          ]
        }
      ]
    },
    {
      "cell_type": "code",
      "source": [
        "# Evaluamos el cuantificado *\n",
        "numeros = [\"12\", \"102\", \"1002\", \"10002\"]\n",
        "resultado = [numero for numero in numeros if re.findall(\"10*2\", numero)]\n",
        "\n",
        "print(\"\\n\" + str(numeros))\n",
        "print('re.findall(\"1*2\", numero): ', resultado)"
      ],
      "metadata": {
        "colab": {
          "base_uri": "https://localhost:8080/"
        },
        "id": "DoLu2rRJpaZt",
        "outputId": "642923bb-1956-4244-a224-5cbec4f68ab7"
      },
      "execution_count": null,
      "outputs": [
        {
          "output_type": "stream",
          "name": "stdout",
          "text": [
            "\n",
            "['12', '102', '1002', '10002']\n",
            "re.findall(\"1*2\", numero):  ['12', '102', '1002', '10002']\n"
          ]
        }
      ]
    },
    {
      "cell_type": "code",
      "source": [
        "# Evaluamos el cuantificado +\n",
        "numeros = [\"12\", \"102\", \"1002\", \"10002\"]\n",
        "resultado = [numero for numero in numeros if re.findall(\"10+2\", numero)]\n",
        "\n",
        "print(\"\\n\" + str(numeros))\n",
        "print('re.findall(\"1+2\", numero): ', resultado)"
      ],
      "metadata": {
        "colab": {
          "base_uri": "https://localhost:8080/"
        },
        "id": "5_EUIOTPpa6i",
        "outputId": "e61d479c-fc50-4bec-c206-cb424def3fd2"
      },
      "execution_count": null,
      "outputs": [
        {
          "output_type": "stream",
          "name": "stdout",
          "text": [
            "\n",
            "['12', '102', '1002', '10002']\n",
            "re.findall(\"1+2\", numero):  ['102', '1002', '10002']\n"
          ]
        }
      ]
    },
    {
      "cell_type": "markdown",
      "source": [
        "## Delimitación"
      ],
      "metadata": {
        "id": "VjUJXBe8p5Z8"
      }
    },
    {
      "cell_type": "markdown",
      "source": [
        "Los paréntesis en expresiones regulares se utilizan para agrupar subconjuntos de caracteres dentro de una expresión más grande.\n",
        "Esto permite aplicar operadores o cuantificadores a ese subconjunto específico.\n",
        "Supongamos que queremos encontrar una secuencia similar a la composición de un número telefónico o una patente de automóvil.\n"
      ],
      "metadata": {
        "id": "RTPj4tzRp7bq"
      }
    },
    {
      "cell_type": "code",
      "source": [
        "text = \"Juan tiene el télefono 1234-5678, Oliver tiene el teléfono 11-15-3456-7890 y Gabriela el 11-15-7654-3210.\"\n",
        "patron = \"([0-9]{2,})-(15-[0-9]{4})-([0-9]{4})\"\n",
        "numeros = re.findall(patron, text)\n",
        "print(\"\\n\" + str(numeros))  # [('11', '15-3456', '7890'), ('11', '15-7654', '3210')]\n",
        "# Imprimimos los números de celulares encontrados y sus partes específicas\n",
        "if numeros:\n",
        "    print(\"Números de celulares encontrados:\")\n",
        "    for numero in numeros:\n",
        "        print(f\"Número completo: {numero[0]}-{numero[1]}-{numero[2]}\")\n",
        "        print(f\"Código de área: {numero[0]}\\n\")\n",
        "else:\n",
        "    print(\"No se encontraron números de teléfono.\")"
      ],
      "metadata": {
        "colab": {
          "base_uri": "https://localhost:8080/"
        },
        "id": "UJqmgxKQp9qL",
        "outputId": "1a48ee40-64e8-44af-ff17-c33cd6480f75"
      },
      "execution_count": null,
      "outputs": [
        {
          "output_type": "stream",
          "name": "stdout",
          "text": [
            "\n",
            "[('11', '15-3456', '7890'), ('11', '15-7654', '3210')]\n",
            "Números de celulares encontrados:\n",
            "Número completo: 11-15-3456-7890\n",
            "Código de área: 11\n",
            "\n",
            "Número completo: 11-15-7654-3210\n",
            "Código de área: 11\n",
            "\n"
          ]
        }
      ]
    },
    {
      "cell_type": "markdown",
      "source": [
        "## Método Sub"
      ],
      "metadata": {
        "id": "CAc1VHRNqCzH"
      }
    },
    {
      "cell_type": "markdown",
      "source": [
        "Se utiliza para reemplazar partes de una cadena que coinciden con una expresión regular. Encuentra todas las coincidencias de un patrón dentro de la cadena y las reemplaza por la cadena de reemplazo. Devuelve la cadena modificada o la misma si no se encuentra el patrón.\n",
        "<BR>\n",
        "Su sintaxis es:\n",
        "<BR>\n",
        "`re.sub(<patrón>, <reemplazo>, <cadena>)`\n"
      ],
      "metadata": {
        "id": "c401jBPmqF5E"
      }
    },
    {
      "cell_type": "code",
      "source": [
        "# Reemplazar todas las ocurrencias de 'elefantes' por 'dinosaurios'\n",
        "text = \"Los elefantes se extinguieron hace millones de años. Se han encontrado restos de elefantes enterrados.\"\n",
        "resultado = re.sub(\"elefantes\", \"dinosaurios\", text)\n",
        "\n",
        "print(\"Texto original: \", text)\n",
        "print(\"Texto procesados: \", resultado)"
      ],
      "metadata": {
        "colab": {
          "base_uri": "https://localhost:8080/"
        },
        "id": "v5rWVyVRqLtX",
        "outputId": "3ecd63b9-2897-477a-be80-cf5d9b5d9bff"
      },
      "execution_count": null,
      "outputs": [
        {
          "output_type": "stream",
          "name": "stdout",
          "text": [
            "Texto original:  Los elefantes se extinguieron hace millones de años. Se han encontrado restos de elefantes enterrados.\n",
            "Texto procesados:  Los dinosaurios se extinguieron hace millones de años. Se han encontrado restos de dinosaurios enterrados.\n"
          ]
        }
      ]
    },
    {
      "cell_type": "code",
      "source": [
        "text = \"El número de teléfono de Oliver es 123-456-7890, y el de Gabriela es 987-654-3210.\"\n",
        "patron = \"[0-9]{3}-[0-9]{3}-[0-9]{4}\"\n",
        "cadenaEnmascarada = \"XXX-XXX-XXXX\"\n",
        "# Utilizamos re.sub() para reemplazar todos los números de teléfono por la cadena enmascarada\n",
        "textOfuscado = re.sub(patron, cadenaEnmascarada, text)\n",
        "print(\"\\nTexto original:\")\n",
        "print(text)\n",
        "print(\"\\nTexto después de ofuscar los números de teléfono:\")\n",
        "print(\n",
        "    textOfuscado\n",
        ")  # El número de teléfono de Oliver es XXX-XXX-XXXX, y el de Gabriela es XXX-XXX-XXXX."
      ],
      "metadata": {
        "colab": {
          "base_uri": "https://localhost:8080/"
        },
        "id": "DHNW9NRZqjMM",
        "outputId": "58568503-9f8d-4cec-d079-c72d52cb0c89"
      },
      "execution_count": null,
      "outputs": [
        {
          "output_type": "stream",
          "name": "stdout",
          "text": [
            "\n",
            "Texto original:\n",
            "El número de teléfono de Oliver es 123-456-7890, y el de Gabriela es 987-654-3210.\n",
            "\n",
            "Texto después de ofuscar los números de teléfono:\n",
            "El número de teléfono de Oliver es XXX-XXX-XXXX, y el de Gabriela es XXX-XXX-XXXX.\n"
          ]
        }
      ]
    },
    {
      "cell_type": "code",
      "source": [
        "## Método re.split()"
      ],
      "metadata": {
        "id": "yQRm07nJqlmq"
      },
      "execution_count": null,
      "outputs": []
    },
    {
      "cell_type": "markdown",
      "source": [
        "Se utiliza para dividir una cadena en partes utilizando un patrón de expresión regular como delimitador.\n",
        "A diferencia del método split convencional de Python, que solo admite cadenas simples como delimitadores, re.split permite utilizar patrones más complejos basados en expresiones regulares para separar la cadena en partes más significativas.\n",
        "Para usar re.split(), se proporcionan dos argumentos principales: el patrón de expresión regular que se utilizará como separador y la cadena de texto que se dividirá.\n",
        "El método devuelve una lista de cadenas resultantes después de dividir la cadena original según el patrón especificado.\n"
      ],
      "metadata": {
        "id": "HezTNRlPqqJn"
      }
    },
    {
      "cell_type": "code",
      "source": [
        "text = \"Hola, ¿cómo estás? Espero que bien. Yo estoy bien también.\"\n",
        "text_split = text.split()\n",
        "text_re_split = re.split(r\"[., ]\", text)\n",
        "print(\"\\n\" + text)\n",
        "print(\"text.split(): \", text_split)\n",
        "print(\"re.split('[.,]', text): \", text_re_split)"
      ],
      "metadata": {
        "colab": {
          "base_uri": "https://localhost:8080/"
        },
        "id": "h1AiumAmqvnj",
        "outputId": "7d7fafc0-4bac-4550-8399-4f98aba6e8d1"
      },
      "execution_count": null,
      "outputs": [
        {
          "output_type": "stream",
          "name": "stdout",
          "text": [
            "\n",
            "Hola, ¿cómo estás? Espero que bien. Yo estoy bien también.\n",
            "text.split():  ['Hola,', '¿cómo', 'estás?', 'Espero', 'que', 'bien.', 'Yo', 'estoy', 'bien', 'también.']\n",
            "re.split('[.,]', text):  ['Hola', '', '¿cómo', 'estás?', 'Espero', 'que', 'bien', '', 'Yo', 'estoy', 'bien', 'también', '']\n"
          ]
        }
      ]
    },
    {
      "cell_type": "markdown",
      "source": [
        "## Método match()"
      ],
      "metadata": {
        "id": "yBWZu9m1qyWS"
      }
    },
    {
      "cell_type": "markdown",
      "source": [
        "Se utiliza para determinar si una cadena coincide con un patrón de expresión regular desde el inicio de la cadena.\n",
        "Retorna un objeto Match si encuentra una coincidencia exitosa (se considera True cuando se evalúa en un contexto booleano); de lo contrario, devuelve None.\n"
      ],
      "metadata": {
        "id": "G0OsfZY6q2EP"
      }
    },
    {
      "cell_type": "code",
      "source": [
        "cadenas = [\"A123\", \"B456\", \"C789\", \"123A\", \"D1234\"]\n",
        "patron = \"[A-Za-z][1-3]{3}\"\n",
        "match20 = [\n",
        "    (\n",
        "        f'{cadena} coincide con el patrón.'\n",
        "        if re.match(patron, cadena)\n",
        "        else f'{cadena} no coincide con el patrón.'\n",
        "    )\n",
        "    for cadena in cadenas\n",
        "]\n",
        "print(\"\\n\", cadenas)\n",
        "for item in match20:\n",
        "    print(item)"
      ],
      "metadata": {
        "colab": {
          "base_uri": "https://localhost:8080/"
        },
        "id": "snTytESdq6Le",
        "outputId": "f96e9b75-40a5-40e9-c88e-664ccc615e41"
      },
      "execution_count": null,
      "outputs": [
        {
          "output_type": "stream",
          "name": "stdout",
          "text": [
            "\n",
            " ['A123', 'B456', 'C789', '123A', 'D1234']\n",
            "A123 coincide con el patrón.\n",
            "B456 no coincide con el patrón.\n",
            "C789 no coincide con el patrón.\n",
            "123A no coincide con el patrón.\n",
            "D1234 coincide con el patrón.\n"
          ]
        }
      ]
    },
    {
      "cell_type": "markdown",
      "source": [
        "## Método compile()"
      ],
      "metadata": {
        "id": "F_GY2mrRq-va"
      }
    },
    {
      "cell_type": "markdown",
      "source": [
        "La compilación de expresiones regulares es el proceso mediante el cual una expresión regular se convierte en un objeto patrón que puede ser reutilizado eficientemente.\n",
        "La ventaja de compilar una expresión regular es que permite optimizar las búsquedas, especialmente cuando la misma expresión se utiliza múltiples veces en el código.\n",
        "Al compilar una expresión regular, no solo se mejora la legibilidad del código, sino también su rendimiento, ya que evita la necesidad de recompilar la misma expresión en cada uso.\n",
        "Este objeto se puede emplear para invocar métodos antes vistos, de la misma manera que se usarían directamente con el módulo re.\n"
      ],
      "metadata": {
        "id": "sApxMa7UrC8e"
      }
    },
    {
      "cell_type": "code",
      "source": [
        "patron = re.compile('[0-9]{4}')\n",
        "cadena = \"07/08/2017|03/02/1984|17/03/1984\"\n",
        "coincidencias = patron.findall(cadena)\n",
        "print(f'\\nCoincidencias encontradas con findall(): {coincidencias}') # Coincidencias encontradas con findall(): ['2017', '1984', '1984']\n",
        "\n",
        "inicioCoincidencia = patron.match(cadena)\n",
        "print(f'Coincidencia al inicio con match(): {inicioCoincidencia}') # Coincidencia al inicio con match(): None\n",
        "\n",
        "cadenaReemplazada = patron.sub('XXXX', cadena)\n",
        "print(f'Cadena después de usar sub(): {cadenaReemplazada}') # Cadena después de usar sub(): 07/08/XXXX|03/02/XXXX|17/03/XXXX"
      ],
      "metadata": {
        "colab": {
          "base_uri": "https://localhost:8080/"
        },
        "id": "oEuacm-krFq8",
        "outputId": "2aeeb896-4ec6-4424-a085-871eecf206a4"
      },
      "execution_count": null,
      "outputs": [
        {
          "output_type": "stream",
          "name": "stdout",
          "text": [
            "\n",
            "Coincidencias encontradas con findall(): ['2017', '1984', '1984']\n",
            "Coincidencia al inicio con match(): None\n",
            "Cadena después de usar sub(): 07/08/XXXX|03/02/XXXX|17/03/XXXX\n"
          ]
        }
      ]
    }
  ]
}