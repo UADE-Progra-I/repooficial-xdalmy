{
  "nbformat": 4,
  "nbformat_minor": 0,
  "metadata": {
    "colab": {
      "provenance": []
    },
    "kernelspec": {
      "name": "python3",
      "display_name": "Python 3"
    },
    "language_info": {
      "name": "python"
    }
  },
  "cells": [
    {
      "cell_type": "markdown",
      "source": [
        "**NO sobrescribir este Notebook, favor de hacer unaa copia a la carpeta \"codigo_estudiantes\".**"
      ],
      "metadata": {
        "id": "fFoMHC_1w76P"
      }
    },
    {
      "cell_type": "markdown",
      "source": [
        "# Ejercicio 1\n"
      ],
      "metadata": {
        "id": "pAwWobhttmZd"
      }
    },
    {
      "cell_type": "markdown",
      "source": [
        "**Búsqueda simple con search**\n"
      ],
      "metadata": {
        "id": "FjRP4DlHt4eh"
      }
    },
    {
      "cell_type": "markdown",
      "source": [
        "Dada la cadena:\n",
        "`cadena = \"She sells sea shells by the seashore\"`\n",
        "<BR>\n",
        "Encuentra la primera palabra que empiece con \"se\" (ignora mayúsculas y minúsculas) y muestra su posición inicial y final."
      ],
      "metadata": {
        "id": "Gu0T7WE1tTAT"
      }
    },
    {
      "cell_type": "code",
      "source": [
        "import re\n",
        "\n",
        "cadena = \"She sells sea shells by the seashore\"\n",
        "resultado = re.search(r'\\bse\\w+', cadena, re.IGNORECASE)\n",
        "print(resultado)"
      ],
      "metadata": {
        "colab": {
          "base_uri": "https://localhost:8080/"
        },
        "id": "vh1pI8cguIkq",
        "outputId": "211b64ba-ffb2-4ae4-932d-a3c5a663dc58"
      },
      "execution_count": 15,
      "outputs": [
        {
          "output_type": "stream",
          "name": "stdout",
          "text": [
            "<re.Match object; span=(4, 9), match='sells'>\n"
          ]
        }
      ]
    },
    {
      "cell_type": "markdown",
      "source": [
        "# Ejercicio 2"
      ],
      "metadata": {
        "id": "B6PpSnPttzXf"
      }
    },
    {
      "cell_type": "markdown",
      "source": [
        "**Uso de findall**"
      ],
      "metadata": {
        "id": "e_HIrn5_tauQ"
      }
    },
    {
      "cell_type": "markdown",
      "source": [
        "Con la misma cadena, encuentra todas las ocurrencias de \"sh\" y muéstralas en una lista."
      ],
      "metadata": {
        "id": "l1QPvmfzuG3M"
      }
    },
    {
      "cell_type": "code",
      "source": [
        "cadena = \"She sells sea shells by the seashore\"\n",
        "resultado = [word for word in cadena.split() if re.search('^sh', word, re.IGNORECASE)]\n",
        "print(resultado)\n",
        "\n",
        "resultado = re.findall(r\"\\bsh\\w*\", cadena, re.IGNORECASE)\n",
        "print(resultado)"
      ],
      "metadata": {
        "colab": {
          "base_uri": "https://localhost:8080/"
        },
        "id": "AYqau5AyucCb",
        "outputId": "a3612de1-df5a-4556-ad1f-c4bcb2c4accf"
      },
      "execution_count": 19,
      "outputs": [
        {
          "output_type": "stream",
          "name": "stdout",
          "text": [
            "['She', 'shells']\n",
            "['She', 'shells']\n"
          ]
        }
      ]
    },
    {
      "cell_type": "markdown",
      "source": [
        "# Ejercicio 3"
      ],
      "metadata": {
        "id": "0It813-Xue9l"
      }
    },
    {
      "cell_type": "markdown",
      "source": [
        "**Metacaracteres . y ^**"
      ],
      "metadata": {
        "id": "w2iaOeHNuhXs"
      }
    },
    {
      "cell_type": "markdown",
      "source": [
        "Usa la cadena:\n",
        "<BR>\n",
        "`cadena = \"Peter Piper picked a peck of pickled peppers\"`\n",
        "<BR>\n",
        "1. Encuentra todas las palabras que empiecen con \"pi\".\n",
        "2. Encuentra todas las palabras que terminen en \"ed\".\n"
      ],
      "metadata": {
        "id": "3HO9xJmNuHi6"
      }
    },
    {
      "cell_type": "code",
      "source": [
        "cadena = \"Peter Piper picked a peck of pickled peppers\"\n",
        "\n",
        "resultado = [word for word in cadena.split() if re.search(r'^pi\\w+', word, re.IGNORECASE)]\n",
        "print(resultado)\n",
        "\n",
        "resultado = re.findall(r\"\\bpi\\w*\", cadena, re.IGNORECASE)\n",
        "print(resultado)\n"
      ],
      "metadata": {
        "colab": {
          "base_uri": "https://localhost:8080/"
        },
        "id": "b-gixSioutAy",
        "outputId": "029eb93a-f032-430f-b69b-9e5df7be659b"
      },
      "execution_count": 23,
      "outputs": [
        {
          "output_type": "stream",
          "name": "stdout",
          "text": [
            "['Piper', 'picked', 'pickled']\n",
            "['Piper', 'picked', 'pickled']\n"
          ]
        }
      ]
    },
    {
      "cell_type": "code",
      "source": [
        "resultado = [word for word in cadena.split() if re.search('^pi.*ed$', word, re.IGNORECASE)]\n",
        "print(resultado)\n",
        "\n",
        "resultado = re.findall(r\"\\w*ed\\b\", cadena, re.IGNORECASE)\n",
        "print(resultado)"
      ],
      "metadata": {
        "colab": {
          "base_uri": "https://localhost:8080/"
        },
        "id": "7TRUKg3R3Sc-",
        "outputId": "226bac46-717b-40a6-999c-21322d5a2dc5"
      },
      "execution_count": 24,
      "outputs": [
        {
          "output_type": "stream",
          "name": "stdout",
          "text": [
            "['picked', 'pickled']\n",
            "['picked', 'pickled']\n"
          ]
        }
      ]
    },
    {
      "cell_type": "markdown",
      "source": [
        "# Ejercicio 4"
      ],
      "metadata": {
        "id": "rETrDp5BuwfM"
      }
    },
    {
      "cell_type": "markdown",
      "source": [
        "**Caracteres especiales escapados**"
      ],
      "metadata": {
        "id": "o5QpCsLGuz5i"
      }
    },
    {
      "cell_type": "markdown",
      "source": [
        "Dada la cadena:\n",
        "<BR>\n",
        "`cadena = \"El precio del producto es $59.99\"`\n",
        "<BR>\n",
        "1. Encuentra el valor que aparece después del símbolo $.\n",
        "2. Busca el separador decimal \".\" de manera literal."
      ],
      "metadata": {
        "id": "lByRDXSLu2d1"
      }
    },
    {
      "cell_type": "code",
      "source": [
        "cadena = \"El precio del producto es $59.99\"\n",
        "\n",
        "solucion = re.search(r'\\$(\\d+)', cadena)\n",
        "print(solucion)"
      ],
      "metadata": {
        "colab": {
          "base_uri": "https://localhost:8080/"
        },
        "id": "n_uHrWAixFxD",
        "outputId": "507a4ffa-fce1-42c8-8ad0-dce01e947062"
      },
      "execution_count": 27,
      "outputs": [
        {
          "output_type": "stream",
          "name": "stdout",
          "text": [
            "<re.Match object; span=(26, 29), match='$59'>\n"
          ]
        }
      ]
    },
    {
      "cell_type": "code",
      "source": [
        "solucion = re.search(r'\\d+\\.\\d+', cadena)\n",
        "print(solucion)"
      ],
      "metadata": {
        "colab": {
          "base_uri": "https://localhost:8080/"
        },
        "id": "megli7Tt4GB9",
        "outputId": "2cbc40e6-875a-48f3-8441-b73ce1b2f42e"
      },
      "execution_count": 32,
      "outputs": [
        {
          "output_type": "stream",
          "name": "stdout",
          "text": [
            "<re.Match object; span=(27, 32), match='59.99'>\n"
          ]
        }
      ]
    },
    {
      "cell_type": "markdown",
      "source": [
        "# Ejercicio 5"
      ],
      "metadata": {
        "id": "6bpm1BZWu8hf"
      }
    },
    {
      "cell_type": "markdown",
      "source": [
        "**Conjuntos de caracteres []**"
      ],
      "metadata": {
        "id": "WGO2Y-Jju_NS"
      }
    },
    {
      "cell_type": "markdown",
      "source": [
        "Dada la cadena:\n",
        "<BR>\n",
        "`text = \"En un rato llega el pato a la granja de Tato\"`\n",
        "<BR>\n",
        "Encuentra todas las palabras que terminen en \"ato\" y que empiecen con r, p o t."
      ],
      "metadata": {
        "id": "j607q2pOvAwr"
      }
    },
    {
      "cell_type": "code",
      "source": [
        "text = \"En un rato llega el pato a la granja de Tato\"\n",
        "\n",
        "resultado = re.findall(r'\\b[rpto]ato\\b', text)\n",
        "print(resultado)"
      ],
      "metadata": {
        "colab": {
          "base_uri": "https://localhost:8080/"
        },
        "id": "-aHo9FhcxGiB",
        "outputId": "08f853e6-5303-4f5d-9f3a-bdc0b0b9786c"
      },
      "execution_count": 40,
      "outputs": [
        {
          "output_type": "stream",
          "name": "stdout",
          "text": [
            "['rato', 'pato']\n"
          ]
        }
      ]
    },
    {
      "cell_type": "markdown",
      "source": [
        "# Ejercicio 6"
      ],
      "metadata": {
        "id": "2q5UPLGavGG9"
      }
    },
    {
      "cell_type": "markdown",
      "source": [
        "**Rangos y negaciones**"
      ],
      "metadata": {
        "id": "YK6E3U2ivHim"
      }
    },
    {
      "cell_type": "markdown",
      "source": [
        "Dada la cadena:\n",
        "<BR>\n",
        "`direccion = \"Av. Corrientes 1234 Piso 5\"`\n",
        "<BR>\n",
        "1. Extrae solo las letras minúsculas [a-z].\n",
        "2. Extrae solo los números [0-9].\n",
        "3. Extrae todos los caracteres que no sean números ([^0-9])."
      ],
      "metadata": {
        "id": "kYoMZE1AvJP1"
      }
    },
    {
      "cell_type": "code",
      "source": [
        "direccion = \"Av. Corrientes 1234 Piso 5\"\n",
        "solucion1 = re.findall(r'[a-z]', direccion)\n",
        "print(solucion1)\n",
        "\n",
        "solucion2 = re.findall(r'[0-9]', direccion)\n",
        "print(solucion2)\n",
        "\n",
        "solucion3 = re.findall  (r'[^0-9]', direccion)\n",
        "print(solucion3)"
      ],
      "metadata": {
        "colab": {
          "base_uri": "https://localhost:8080/"
        },
        "id": "Z3aLiuOzxHOk",
        "outputId": "e983240f-ef17-4ed1-d287-d2384869e23c"
      },
      "execution_count": 41,
      "outputs": [
        {
          "output_type": "stream",
          "name": "stdout",
          "text": [
            "['v', 'o', 'r', 'r', 'i', 'e', 'n', 't', 'e', 's', 'i', 's', 'o']\n",
            "['1', '2', '3', '4', '5']\n",
            "['A', 'v', '.', ' ', 'C', 'o', 'r', 'r', 'i', 'e', 'n', 't', 'e', 's', ' ', ' ', 'P', 'i', 's', 'o', ' ']\n"
          ]
        }
      ]
    },
    {
      "cell_type": "markdown",
      "source": [
        "# Ejercicio 7"
      ],
      "metadata": {
        "id": "m1zjEWgOvQPQ"
      }
    },
    {
      "cell_type": "markdown",
      "source": [
        "**Cuantificadores**"
      ],
      "metadata": {
        "id": "KMW9NGcOvTj1"
      }
    },
    {
      "cell_type": "markdown",
      "source": [
        "Dada la lista:\n",
        "<BR>\n",
        "`numeros = [\"12\", \"102\", \"1002\", \"10002\", \"1000002\"]`\n",
        "<BR>\n",
        "1. Encuentra con regex los números que tengan exactamente un 0 entre el 1 y el 2.\n",
        "2. Encuentra los que tengan uno o más ceros.\n",
        "3. Encuentra los que tengan cero o más ceros."
      ],
      "metadata": {
        "id": "8Lntme49vVFB"
      }
    },
    {
      "cell_type": "code",
      "source": [
        "numeros = [\"12\", \"102\", \"1002\", \"10002\", \"1000002\"]\n",
        "solucion1 = [num for num in numeros if re.search(r'102', num)]\n",
        "print(solucion1)\n",
        "\n",
        "solucion2 = [num for num in numeros if re.search(r'10+2', num)]\n",
        "print(solucion2)\n",
        "\n",
        "solucion3 = [num for num in numeros if re.search(r'10*2', num)]\n",
        "print(solucion3)"
      ],
      "metadata": {
        "colab": {
          "base_uri": "https://localhost:8080/"
        },
        "id": "4jXandvnxH8n",
        "outputId": "880b3b3f-a731-4702-9409-2f337fd8c4fe"
      },
      "execution_count": 47,
      "outputs": [
        {
          "output_type": "stream",
          "name": "stdout",
          "text": [
            "['102']\n",
            "['102', '1002', '10002', '1000002']\n",
            "['12', '102', '1002', '10002', '1000002']\n"
          ]
        }
      ]
    },
    {
      "cell_type": "markdown",
      "source": [
        "# Ejercicio 8"
      ],
      "metadata": {
        "id": "OXHU9BnNvdHl"
      }
    },
    {
      "cell_type": "markdown",
      "source": [
        "**Grupos de captura**"
      ],
      "metadata": {
        "id": "dhkGW3nMvfzf"
      }
    },
    {
      "cell_type": "markdown",
      "source": [
        "Dada la cadena:\n",
        "<BR>\n",
        "`text = \"Juan: 11-15-3456-7890, María: 11-15-6543-2109\"`\n",
        "<BR>\n",
        "Crea un patrón que extraiga cada número de celular en tres grupos:\n",
        "1. código de área (11)\n",
        "2. prefijo (15-xxxx)\n",
        "3. número final (xxxx)\n",
        "\n",
        "Imprime cada número completo y sus partes."
      ],
      "metadata": {
        "id": "MLMatJQ5vhng"
      }
    },
    {
      "cell_type": "code",
      "source": [
        "text = \"Juan: 11-15-3456-7890, María: 11-15-6543-2109\"\n",
        "patron = \"(1{2})-(15-[0-9]{4})-([0-9]{4})\"\n",
        "solucion = re.findall(patron, text)\n",
        "for celular in solucion:\n",
        "    print(f\"Número completo: {celular[0]}-{celular[1]}-{celular[2]}\")\n",
        "    print(f\"Código de área: {celular[0]}\")\n",
        "    print(f\"Prefijo: {celular[1]}\")\n",
        "    print(f\"Número final: {celular[2]}\")\n",
        "    print()"
      ],
      "metadata": {
        "colab": {
          "base_uri": "https://localhost:8080/"
        },
        "id": "XALUo-EcxIla",
        "outputId": "bfc173e4-be6b-47ea-ee8c-7fb253cf2e5e"
      },
      "execution_count": 51,
      "outputs": [
        {
          "output_type": "stream",
          "name": "stdout",
          "text": [
            "Número completo: 11-15-3456-7890\n",
            "Código de área: 11\n",
            "Prefijo: 15-3456\n",
            "Número final: 7890\n",
            "\n",
            "Número completo: 11-15-6543-2109\n",
            "Código de área: 11\n",
            "Prefijo: 15-6543\n",
            "Número final: 2109\n",
            "\n"
          ]
        }
      ]
    },
    {
      "cell_type": "markdown",
      "source": [
        "# Ejercicio 9"
      ],
      "metadata": {
        "id": "MQ5XSQU0vot9"
      }
    },
    {
      "cell_type": "markdown",
      "source": [
        "**Sustitución con sub**"
      ],
      "metadata": {
        "id": "DK51g_45vrf3"
      }
    },
    {
      "cell_type": "markdown",
      "source": [
        "Dada la cadena:\n",
        "<BR>\n",
        "`text = \"El número de Pedro es 123-456-7890 y el de Ana es 987-654-3210\"`\n",
        "\n",
        "1. Reemplaza todos los números de teléfono por \"XXX-XXX-XXXX\".\n",
        "2. Reemplaza \"Pedro\" por \"Juan\"."
      ],
      "metadata": {
        "id": "_i6mZsUWvtQe"
      }
    },
    {
      "cell_type": "code",
      "source": [
        "text = \"El número de Pedro es 123-456-7890 y el de Ana es 987-654-3210\"\n",
        "\n",
        "# 1. Reemplazar todos los teléfonos\n",
        "patron_telefonos = r\"[0-9]{3}-[0-9]{3}-[0-9]{4}\"\n",
        "text_enmascarado = re.sub(patron_telefonos, \"XXX-XXX-XXXX\", text)\n",
        "\n",
        "# 2. Reemplazar \"Pedro\" por \"Juan\"\n",
        "text_final = re.sub(r\"Pedro\", \"Juan\", text_enmascarado)\n",
        "\n",
        "print(\"Texto original:\")\n",
        "print(text)\n",
        "print(\"\\nTexto modificado:\")\n",
        "print(text_final)"
      ],
      "metadata": {
        "colab": {
          "base_uri": "https://localhost:8080/"
        },
        "id": "OzAnOqxtxJGV",
        "outputId": "d95ed201-fb5c-4b5e-e433-2018adaff33f"
      },
      "execution_count": 52,
      "outputs": [
        {
          "output_type": "stream",
          "name": "stdout",
          "text": [
            "Texto original:\n",
            "El número de Pedro es 123-456-7890 y el de Ana es 987-654-3210\n",
            "\n",
            "Texto modificado:\n",
            "El número de Juan es XXX-XXX-XXXX y el de Ana es XXX-XXX-XXXX\n"
          ]
        }
      ]
    },
    {
      "cell_type": "markdown",
      "source": [
        "# Ejercicio 10"
      ],
      "metadata": {
        "id": "IYEuir74v2vK"
      }
    },
    {
      "cell_type": "markdown",
      "source": [
        "**compile y reutilización de patrones**"
      ],
      "metadata": {
        "id": "TJDvhoQcv6wK"
      }
    },
    {
      "cell_type": "markdown",
      "source": [
        "Dada la cadena:\n",
        "<BR>\n",
        "`cadena = \"07/08/2017 | 03/02/1984 | 17/03/1984\"`\n",
        "<BR>\n",
        "1. Usa re.compile para definir un patrón que encuentre años de 4 dígitos.\n",
        "2. Obtén todas las coincidencias con findall().\n",
        "3. Reemplaza los años por \"XXXX\"."
      ],
      "metadata": {
        "id": "cdJo2Z84v9Uq"
      }
    },
    {
      "cell_type": "code",
      "source": [
        "cadena = \"07/08/2017 | 03/02/1984 | 17/03/1984\"\n",
        "\n",
        "# Compilamos el patrón para años de 4 dígitos\n",
        "patron = re.compile(r\"\\d{4}\")\n",
        "\n",
        "# 1. Obtener todas las coincidencias con findall()\n",
        "coincidencias = patron.findall(cadena)\n",
        "print(\"Coincidencias encontradas:\", coincidencias)\n",
        "\n",
        "# 2. (Opcional) Usar finditer para ver posición y valor\n",
        "for match in patron.finditer(cadena):\n",
        "    print(f\"Año: {match.group()} en posición {match.span()}\")\n"
      ],
      "metadata": {
        "colab": {
          "base_uri": "https://localhost:8080/"
        },
        "id": "-vygvhwLxJlY",
        "outputId": "0913063d-c147-4d45-d5d7-3ff685bd1ef7"
      },
      "execution_count": 53,
      "outputs": [
        {
          "output_type": "stream",
          "name": "stdout",
          "text": [
            "Coincidencias encontradas: ['2017', '1984', '1984']\n",
            "Año: 2017 en posición (6, 10)\n",
            "Año: 1984 en posición (19, 23)\n",
            "Año: 1984 en posición (32, 36)\n"
          ]
        }
      ]
    }
  ]
}